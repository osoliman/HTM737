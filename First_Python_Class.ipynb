{
  "nbformat": 4,
  "nbformat_minor": 0,
  "metadata": {
    "colab": {
      "provenance": [],
      "authorship_tag": "ABX9TyMAN3mbfOepcOHEYx6OnDjd",
      "include_colab_link": true
    },
    "kernelspec": {
      "name": "python3",
      "display_name": "Python 3"
    },
    "language_info": {
      "name": "python"
    }
  },
  "cells": [
    {
      "cell_type": "markdown",
      "metadata": {
        "id": "view-in-github",
        "colab_type": "text"
      },
      "source": [
        "<a href=\"https://colab.research.google.com/github/osoliman/HTM737/blob/main/First_Python_Class.ipynb\" target=\"_parent\"><img src=\"https://colab.research.google.com/assets/colab-badge.svg\" alt=\"Open In Colab\"/></a>"
      ]
    },
    {
      "cell_type": "code",
      "execution_count": null,
      "metadata": {
        "id": "KgauxXto3toS"
      },
      "outputs": [],
      "source": [
        "#create a string variable\n",
        "mname = 'John'"
      ]
    },
    {
      "cell_type": "code",
      "source": [
        "print(mname)"
      ],
      "metadata": {
        "colab": {
          "base_uri": "https://localhost:8080/"
        },
        "id": "3ZXmolsy4SoS",
        "outputId": "855b9365-f93a-4ae2-c775-5eed1a2ccaa9"
      },
      "execution_count": null,
      "outputs": [
        {
          "output_type": "stream",
          "name": "stdout",
          "text": [
            "John\n"
          ]
        }
      ]
    },
    {
      "cell_type": "code",
      "source": [
        "print(mname[0:2]) #the value after the colon is NOT included\n",
        "#which means read up to 2\n",
        "#what we did here is that we sliced the string by index which is the order, location of the character"
      ],
      "metadata": {
        "colab": {
          "base_uri": "https://localhost:8080/"
        },
        "id": "peUHC86U4k4g",
        "outputId": "afeb2a9c-092c-4860-fb40-cd62c3e3b76c"
      },
      "execution_count": null,
      "outputs": [
        {
          "output_type": "stream",
          "name": "stdout",
          "text": [
            "Jo\n"
          ]
        }
      ]
    },
    {
      "cell_type": "code",
      "source": [
        "MCPHS_zip_code = '02115-2345'"
      ],
      "metadata": {
        "id": "XphtTwM85oGa"
      },
      "execution_count": null,
      "outputs": []
    },
    {
      "cell_type": "code",
      "source": [
        "print(MCPHS_zip_code[0:5])"
      ],
      "metadata": {
        "colab": {
          "base_uri": "https://localhost:8080/"
        },
        "id": "Z5THHjg256FX",
        "outputId": "86b6643a-0761-4fb9-9dd8-0e2d641c1bef"
      },
      "execution_count": null,
      "outputs": [
        {
          "output_type": "stream",
          "name": "stdout",
          "text": [
            "02115\n"
          ]
        }
      ]
    },
    {
      "cell_type": "code",
      "source": [
        "print(MCPHS_zip_code[-1])"
      ],
      "metadata": {
        "colab": {
          "base_uri": "https://localhost:8080/"
        },
        "id": "CMA3Hnx-60eM",
        "outputId": "441fd686-a3a4-43a9-ffb7-77b15107f874"
      },
      "execution_count": null,
      "outputs": [
        {
          "output_type": "stream",
          "name": "stdout",
          "text": [
            "5\n"
          ]
        }
      ]
    },
    {
      "cell_type": "code",
      "source": [
        "john_age = 65"
      ],
      "metadata": {
        "id": "nseRPldV7ssl"
      },
      "execution_count": null,
      "outputs": []
    },
    {
      "cell_type": "code",
      "source": [
        "print(john_age)"
      ],
      "metadata": {
        "colab": {
          "base_uri": "https://localhost:8080/"
        },
        "id": "EWSPir9A7yxe",
        "outputId": "3624811a-a996-41f0-d203-78927d2194cf"
      },
      "execution_count": null,
      "outputs": [
        {
          "output_type": "stream",
          "name": "stdout",
          "text": [
            "65\n"
          ]
        }
      ]
    },
    {
      "cell_type": "code",
      "source": [
        "print(john_age - 5)"
      ],
      "metadata": {
        "colab": {
          "base_uri": "https://localhost:8080/"
        },
        "id": "WWKlWNRK75zF",
        "outputId": "adc84aab-55ee-4506-e4b0-a7ae2235a202"
      },
      "execution_count": null,
      "outputs": [
        {
          "output_type": "stream",
          "name": "stdout",
          "text": [
            "60\n"
          ]
        }
      ]
    },
    {
      "cell_type": "code",
      "source": [
        "2 * 2"
      ],
      "metadata": {
        "colab": {
          "base_uri": "https://localhost:8080/"
        },
        "id": "GH-fygeh8ElX",
        "outputId": "2937e6d7-be40-4344-875f-b0d0396baeaf"
      },
      "execution_count": null,
      "outputs": [
        {
          "output_type": "execute_result",
          "data": {
            "text/plain": [
              "4"
            ]
          },
          "metadata": {},
          "execution_count": 25
        }
      ]
    },
    {
      "cell_type": "code",
      "source": [
        "john_weight = 150.7 #this is float because it has decimals"
      ],
      "metadata": {
        "id": "h-5-If2w8VJ2"
      },
      "execution_count": null,
      "outputs": []
    },
    {
      "cell_type": "code",
      "source": [
        "print(int(john_weight))\n",
        "#integer rounds down (cut the decimal)\n",
        "#integr has no decimals"
      ],
      "metadata": {
        "colab": {
          "base_uri": "https://localhost:8080/"
        },
        "id": "cCH8GN9K8h34",
        "outputId": "2de088e6-c9f5-4dd9-e77b-130652a18d6c"
      },
      "execution_count": null,
      "outputs": [
        {
          "output_type": "stream",
          "name": "stdout",
          "text": [
            "150\n"
          ]
        }
      ]
    },
    {
      "cell_type": "code",
      "source": [
        "john_weight_int = 150"
      ],
      "metadata": {
        "id": "5erndIxi9Oz1"
      },
      "execution_count": null,
      "outputs": []
    },
    {
      "cell_type": "code",
      "source": [
        "print(float(john_weight_int))"
      ],
      "metadata": {
        "colab": {
          "base_uri": "https://localhost:8080/"
        },
        "id": "_Cw6aELI9Srt",
        "outputId": "e3097cbe-4907-4d5b-f939-69db540a2525"
      },
      "execution_count": null,
      "outputs": [
        {
          "output_type": "stream",
          "name": "stdout",
          "text": [
            "150.0\n"
          ]
        }
      ]
    },
    {
      "cell_type": "code",
      "source": [
        "john_weight_str = str(john_weight_int) #converted to text"
      ],
      "metadata": {
        "id": "w6xv1nXl9gYw"
      },
      "execution_count": null,
      "outputs": []
    },
    {
      "cell_type": "code",
      "source": [
        "print(john_weight_int /2)"
      ],
      "metadata": {
        "colab": {
          "base_uri": "https://localhost:8080/"
        },
        "id": "WfMTUkjs9qD9",
        "outputId": "7f0c19ce-36b5-4ba8-e8d8-acdd89ad17b6"
      },
      "execution_count": null,
      "outputs": [
        {
          "output_type": "stream",
          "name": "stdout",
          "text": [
            "75.0\n"
          ]
        }
      ]
    },
    {
      "cell_type": "code",
      "source": [
        "print(john_weight_str /2) #error because we cannot do math operations on text"
      ],
      "metadata": {
        "colab": {
          "base_uri": "https://localhost:8080/",
          "height": 142
        },
        "id": "vUtNDUXB9x7M",
        "outputId": "64b1969d-d503-4bef-e4dd-77656e337b66"
      },
      "execution_count": null,
      "outputs": [
        {
          "output_type": "error",
          "ename": "TypeError",
          "evalue": "unsupported operand type(s) for /: 'str' and 'int'",
          "traceback": [
            "\u001b[0;31m---------------------------------------------------------------------------\u001b[0m",
            "\u001b[0;31mTypeError\u001b[0m                                 Traceback (most recent call last)",
            "\u001b[0;32m/tmp/ipython-input-3256253792.py\u001b[0m in \u001b[0;36m<cell line: 0>\u001b[0;34m()\u001b[0m\n\u001b[0;32m----> 1\u001b[0;31m \u001b[0mprint\u001b[0m\u001b[0;34m(\u001b[0m\u001b[0mjohn_weight_str\u001b[0m \u001b[0;34m/\u001b[0m\u001b[0;36m2\u001b[0m\u001b[0;34m)\u001b[0m\u001b[0;34m\u001b[0m\u001b[0;34m\u001b[0m\u001b[0m\n\u001b[0m",
            "\u001b[0;31mTypeError\u001b[0m: unsupported operand type(s) for /: 'str' and 'int'"
          ]
        }
      ]
    },
    {
      "cell_type": "code",
      "source": [
        "first_list = ['a', 1]"
      ],
      "metadata": {
        "id": "r8JsYKYrAzOs"
      },
      "execution_count": null,
      "outputs": []
    },
    {
      "cell_type": "code",
      "source": [
        "print(first_list[0])"
      ],
      "metadata": {
        "colab": {
          "base_uri": "https://localhost:8080/"
        },
        "id": "85_LaPAoBGir",
        "outputId": "7f0eaee7-bae5-4b72-8222-146dd4dc1ec4"
      },
      "execution_count": null,
      "outputs": [
        {
          "output_type": "stream",
          "name": "stdout",
          "text": [
            "a\n"
          ]
        }
      ]
    },
    {
      "cell_type": "code",
      "source": [
        "first_list[0] = 'ab'"
      ],
      "metadata": {
        "id": "uisrOxl2BWW6"
      },
      "execution_count": null,
      "outputs": []
    },
    {
      "cell_type": "code",
      "source": [
        "print(first_list)"
      ],
      "metadata": {
        "colab": {
          "base_uri": "https://localhost:8080/"
        },
        "id": "E1vl0khkBlfS",
        "outputId": "9c1ba755-585c-4487-c35a-3027eb5e690b"
      },
      "execution_count": null,
      "outputs": [
        {
          "output_type": "stream",
          "name": "stdout",
          "text": [
            "['ab', 1]\n"
          ]
        }
      ]
    },
    {
      "cell_type": "code",
      "source": [
        "first_tuple = ('a', 1)"
      ],
      "metadata": {
        "id": "KkP0cSQ6CQCN"
      },
      "execution_count": null,
      "outputs": []
    },
    {
      "cell_type": "code",
      "source": [
        "first_tuple[0]"
      ],
      "metadata": {
        "colab": {
          "base_uri": "https://localhost:8080/",
          "height": 36
        },
        "id": "VRmC16bKCXbn",
        "outputId": "0d2f62cb-798e-4601-c18b-e24df06a3de1"
      },
      "execution_count": null,
      "outputs": [
        {
          "output_type": "execute_result",
          "data": {
            "text/plain": [
              "'a'"
            ],
            "application/vnd.google.colaboratory.intrinsic+json": {
              "type": "string"
            }
          },
          "metadata": {},
          "execution_count": 39
        }
      ]
    },
    {
      "cell_type": "code",
      "source": [
        "first_tuple[0] = 'ab'"
      ],
      "metadata": {
        "colab": {
          "base_uri": "https://localhost:8080/",
          "height": 142
        },
        "id": "j3UfTO4oClAx",
        "outputId": "c0ae21c9-589e-4812-dd14-e371acc2d996"
      },
      "execution_count": null,
      "outputs": [
        {
          "output_type": "error",
          "ename": "TypeError",
          "evalue": "'tuple' object does not support item assignment",
          "traceback": [
            "\u001b[0;31m---------------------------------------------------------------------------\u001b[0m",
            "\u001b[0;31mTypeError\u001b[0m                                 Traceback (most recent call last)",
            "\u001b[0;32m/tmp/ipython-input-1748634456.py\u001b[0m in \u001b[0;36m<cell line: 0>\u001b[0;34m()\u001b[0m\n\u001b[0;32m----> 1\u001b[0;31m \u001b[0mfirst_tuple\u001b[0m\u001b[0;34m[\u001b[0m\u001b[0;36m0\u001b[0m\u001b[0;34m]\u001b[0m \u001b[0;34m=\u001b[0m \u001b[0;34m'ab'\u001b[0m\u001b[0;34m\u001b[0m\u001b[0;34m\u001b[0m\u001b[0m\n\u001b[0m",
            "\u001b[0;31mTypeError\u001b[0m: 'tuple' object does not support item assignment"
          ]
        }
      ]
    },
    {
      "cell_type": "code",
      "source": [
        "first_dict = {'john_age':65, 'heather_age':45}"
      ],
      "metadata": {
        "id": "QLb8PZjQDUvb"
      },
      "execution_count": null,
      "outputs": []
    },
    {
      "cell_type": "code",
      "source": [
        "print(first_dict['john_age'])"
      ],
      "metadata": {
        "colab": {
          "base_uri": "https://localhost:8080/"
        },
        "id": "XrbqMjsRDeQs",
        "outputId": "ff68aedb-1f63-43b3-bcc7-aa1a5c3c4b44"
      },
      "execution_count": null,
      "outputs": [
        {
          "output_type": "stream",
          "name": "stdout",
          "text": [
            "65\n"
          ]
        }
      ]
    },
    {
      "cell_type": "code",
      "metadata": {
        "id": "ce41381b"
      },
      "source": [
        "list1 = [1, 2, 3]\n",
        "list2 = [3, 4, 5]"
      ],
      "execution_count": null,
      "outputs": []
    },
    {
      "cell_type": "markdown",
      "metadata": {
        "id": "36ea5764"
      },
      "source": [
        "To perform a union of two lists, we can convert them to sets and then use the union operator or method."
      ]
    },
    {
      "cell_type": "code",
      "metadata": {
        "colab": {
          "base_uri": "https://localhost:8080/"
        },
        "id": "ce2e1d8d",
        "outputId": "0a3bb583-0820-4b37-ee88-48791fee8470"
      },
      "source": [
        "# Using the union operator |\n",
        "union_list = list(set(list1) | set(list2))\n",
        "print(union_list)\n",
        "\n",
        "# Using the union method\n",
        "union_list_method = list(set(list1).union(set(list2)))\n",
        "print(union_list_method)"
      ],
      "execution_count": null,
      "outputs": [
        {
          "output_type": "stream",
          "name": "stdout",
          "text": [
            "[1, 2, 3, 4, 5]\n",
            "[1, 2, 3, 4, 5]\n"
          ]
        }
      ]
    },
    {
      "cell_type": "code",
      "source": [
        "first_set = set(first_list)"
      ],
      "metadata": {
        "id": "tLsco7NLExMA"
      },
      "execution_count": null,
      "outputs": []
    },
    {
      "cell_type": "code",
      "metadata": {
        "id": "2db14c96"
      },
      "source": [
        "set1 = {1, 2, 3}\n",
        "set2 = {3, 4, 5}"
      ],
      "execution_count": null,
      "outputs": []
    },
    {
      "cell_type": "markdown",
      "metadata": {
        "id": "1669c569"
      },
      "source": [
        "To perform a union of two sets, we can use the union operator `|` or the `union()` method."
      ]
    },
    {
      "cell_type": "code",
      "metadata": {
        "colab": {
          "base_uri": "https://localhost:8080/"
        },
        "id": "c41d8150",
        "outputId": "fc7a4bca-3bb2-4d4d-ecb1-ce4806602dc8"
      },
      "source": [
        "# Using the union operator |\n",
        "union_set = set1 | set2\n",
        "print(union_set)\n",
        "\n",
        "# Using the union method\n",
        "union_set_method = set1.union(set2)\n",
        "print(union_set_method)"
      ],
      "execution_count": null,
      "outputs": [
        {
          "output_type": "stream",
          "name": "stdout",
          "text": [
            "{1, 2, 3, 4, 5}\n",
            "{1, 2, 3, 4, 5}\n"
          ]
        }
      ]
    },
    {
      "cell_type": "code",
      "source": [
        "def f_to_c(temp_f):\n",
        "  temp_c = round((temp_f - 32) * 5/9,1)\n",
        "  return temp_c"
      ],
      "metadata": {
        "id": "Jp_d9MfJFS1u"
      },
      "execution_count": null,
      "outputs": []
    },
    {
      "cell_type": "code",
      "source": [
        "f_to_c(45)"
      ],
      "metadata": {
        "colab": {
          "base_uri": "https://localhost:8080/"
        },
        "id": "rviKKu98HSDG",
        "outputId": "965925da-5fd1-4aaa-b84f-c3ba3a8d1b08"
      },
      "execution_count": null,
      "outputs": [
        {
          "output_type": "execute_result",
          "data": {
            "text/plain": [
              "7.2"
            ]
          },
          "metadata": {},
          "execution_count": 56
        }
      ]
    },
    {
      "cell_type": "code",
      "source": [
        "def my_secret_function(w,h):\n",
        "  bmi = w / h**2\n",
        "  return bmi"
      ],
      "metadata": {
        "id": "eEUc4W_mIpi3"
      },
      "execution_count": null,
      "outputs": []
    },
    {
      "cell_type": "code",
      "source": [
        "my_secret_function(h=1.7, w=65)"
      ],
      "metadata": {
        "colab": {
          "base_uri": "https://localhost:8080/"
        },
        "id": "pYuwygrCJUmu",
        "outputId": "61fbd96b-15fe-4450-ac38-d2811c775189"
      },
      "execution_count": null,
      "outputs": [
        {
          "output_type": "execute_result",
          "data": {
            "text/plain": [
              "22.49134948096886"
            ]
          },
          "metadata": {},
          "execution_count": 65
        }
      ]
    },
    {
      "cell_type": "code",
      "source": [
        "def calculate_bmi_category(weight_kg, height_m):\n",
        "    bmi = weight_kg / (height_m ** 2)\n",
        "\n",
        "    if bmi < 18.5:\n",
        "        return f\"BMI: {bmi:.1f} - Underweight\"\n",
        "    elif bmi < 25:\n",
        "        return f\"BMI: {bmi:.1f} - Normal weight\"\n",
        "    elif bmi < 30:\n",
        "        return f\"BMI: {bmi:.1f} - Overweight\"\n",
        "    else:\n",
        "        return f\"BMI: {bmi:.1f} - Obese\"\n"
      ],
      "metadata": {
        "id": "kzFosy5ENK8Z"
      },
      "execution_count": null,
      "outputs": []
    },
    {
      "cell_type": "code",
      "source": [
        "calculate_bmi_category(height_m=1.71, weight_kg=80)"
      ],
      "metadata": {
        "colab": {
          "base_uri": "https://localhost:8080/",
          "height": 36
        },
        "id": "G9d9dZrYNMu6",
        "outputId": "c26fc2cd-d9d0-419e-d973-9da7fd134fd4"
      },
      "execution_count": null,
      "outputs": [
        {
          "output_type": "execute_result",
          "data": {
            "text/plain": [
              "'BMI: 27.4 - Overweight'"
            ],
            "application/vnd.google.colaboratory.intrinsic+json": {
              "type": "string"
            }
          },
          "metadata": {},
          "execution_count": 68
        }
      ]
    },
    {
      "cell_type": "code",
      "source": [
        "import pandas as pd"
      ],
      "metadata": {
        "id": "vDhMjDdGNR6y"
      },
      "execution_count": null,
      "outputs": []
    }
  ]
}