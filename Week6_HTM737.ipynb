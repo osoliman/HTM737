{
  "nbformat": 4,
  "nbformat_minor": 0,
  "metadata": {
    "colab": {
      "provenance": [],
      "authorship_tag": "ABX9TyN2PPG20lUGX0NEHrMaLE/r",
      "include_colab_link": true
    },
    "kernelspec": {
      "name": "python3",
      "display_name": "Python 3"
    },
    "language_info": {
      "name": "python"
    }
  },
  "cells": [
    {
      "cell_type": "markdown",
      "metadata": {
        "id": "view-in-github",
        "colab_type": "text"
      },
      "source": [
        "<a href=\"https://colab.research.google.com/github/osoliman/HTM737/blob/main/Week6_HTM737.ipynb\" target=\"_parent\"><img src=\"https://colab.research.google.com/assets/colab-badge.svg\" alt=\"Open In Colab\"/></a>"
      ]
    },
    {
      "cell_type": "code",
      "source": [
        "#Variables\n",
        "#String\n",
        "middle_name = 'John'\n",
        "print(middle_name[0])"
      ],
      "metadata": {
        "colab": {
          "base_uri": "https://localhost:8080/"
        },
        "id": "hQmRiAlA4xzS",
        "outputId": "98b76e8f-ac78-49d9-aa53-bd02c52513f8"
      },
      "execution_count": 3,
      "outputs": [
        {
          "output_type": "stream",
          "name": "stdout",
          "text": [
            "J\n"
          ]
        }
      ]
    },
    {
      "cell_type": "code",
      "source": [
        "print(middle_name[0:4])"
      ],
      "metadata": {
        "colab": {
          "base_uri": "https://localhost:8080/"
        },
        "id": "HbJQiUA-4_dL",
        "outputId": "8f3c5e06-f555-450d-8f45-e98cbfc0bcec"
      },
      "execution_count": 11,
      "outputs": [
        {
          "output_type": "stream",
          "name": "stdout",
          "text": [
            "John\n"
          ]
        }
      ]
    },
    {
      "cell_type": "code",
      "source": [
        "#Numeric\n",
        "assignment1 = 5\n",
        "assignment2 = 5\n",
        "\n",
        "my_total_so_far = assignment1 + assignment2\n",
        "print(my_total_so_far)"
      ],
      "metadata": {
        "colab": {
          "base_uri": "https://localhost:8080/"
        },
        "id": "KfieEctM6JDR",
        "outputId": "500718d4-8380-4365-b3d9-2e0222199f89"
      },
      "execution_count": 18,
      "outputs": [
        {
          "output_type": "stream",
          "name": "stdout",
          "text": [
            "10\n"
          ]
        }
      ]
    },
    {
      "cell_type": "code",
      "source": [
        "a = 5\n",
        "b = 6\n",
        "print(a+b)"
      ],
      "metadata": {
        "colab": {
          "base_uri": "https://localhost:8080/"
        },
        "id": "A8x1oZEw65_W",
        "outputId": "ba2984c2-4dde-4084-9f14-f48fce620373"
      },
      "execution_count": 19,
      "outputs": [
        {
          "output_type": "stream",
          "name": "stdout",
          "text": [
            "11\n"
          ]
        }
      ]
    },
    {
      "cell_type": "code",
      "source": [
        "#Data Containers\n",
        "#List\n",
        "#Square brackets\n",
        "patient1 = [65, 'John', 'MA']\n",
        "patient2 = [45, 'Heather', 'RI']\n",
        "\n",
        "patients = patient1, patient2\n",
        "print(patients)"
      ],
      "metadata": {
        "colab": {
          "base_uri": "https://localhost:8080/"
        },
        "id": "qYBN-w4k7ZSy",
        "outputId": "b11134ca-2516-45be-f8a5-7da9a885d39d"
      },
      "execution_count": 24,
      "outputs": [
        {
          "output_type": "stream",
          "name": "stdout",
          "text": [
            "([65, 'John', 'MA'], [45, 'Heather', 'RI'])\n"
          ]
        }
      ]
    },
    {
      "cell_type": "code",
      "source": [
        "print(patient1[0])"
      ],
      "metadata": {
        "colab": {
          "base_uri": "https://localhost:8080/"
        },
        "id": "5Ec6wCdX9VMX",
        "outputId": "c8bfd9ae-2c0f-4c96-d7fd-92e2f32596ec"
      },
      "execution_count": 26,
      "outputs": [
        {
          "output_type": "stream",
          "name": "stdout",
          "text": [
            "65\n"
          ]
        }
      ]
    },
    {
      "cell_type": "code",
      "source": [
        "patient1[0] = 75"
      ],
      "metadata": {
        "id": "IZLI2Yy79isZ"
      },
      "execution_count": 27,
      "outputs": []
    },
    {
      "cell_type": "code",
      "source": [
        "print(patient1)"
      ],
      "metadata": {
        "colab": {
          "base_uri": "https://localhost:8080/"
        },
        "id": "Xrv3BgQd9nV1",
        "outputId": "06d79112-5810-4953-d884-c9037b5b85c0"
      },
      "execution_count": 28,
      "outputs": [
        {
          "output_type": "stream",
          "name": "stdout",
          "text": [
            "[75, 'John', 'MA']\n"
          ]
        }
      ]
    },
    {
      "cell_type": "code",
      "source": [
        "#Tuple\n",
        "#Round brackets = parantheses\n",
        "#where you can NOT change values\n",
        "patient1_tup = (65, 'John', 'MA')\n",
        "patient2_tup = (45, 'Heather', 'RI')\n",
        "\n",
        "patients_tup = patient1_tup, patient2_tup\n",
        "print(patients_tup)"
      ],
      "metadata": {
        "colab": {
          "base_uri": "https://localhost:8080/"
        },
        "id": "LHB2UwQ29rG-",
        "outputId": "3a531821-c306-4a99-8317-9275c2692103"
      },
      "execution_count": 29,
      "outputs": [
        {
          "output_type": "stream",
          "name": "stdout",
          "text": [
            "((65, 'John', 'MA'), (45, 'Heather', 'RI'))\n"
          ]
        }
      ]
    },
    {
      "cell_type": "code",
      "source": [
        "patient1_tup[0]"
      ],
      "metadata": {
        "colab": {
          "base_uri": "https://localhost:8080/"
        },
        "id": "8-h4Zx7JEsIw",
        "outputId": "a8685081-bc3d-431b-f746-12bad74f1c93"
      },
      "execution_count": 37,
      "outputs": [
        {
          "output_type": "execute_result",
          "data": {
            "text/plain": [
              "65"
            ]
          },
          "metadata": {},
          "execution_count": 37
        }
      ]
    },
    {
      "cell_type": "code",
      "source": [
        "patient1_tup[0] = 75\n",
        "#What do you think this will be?"
      ],
      "metadata": {
        "id": "YWkqzXCh-Sst"
      },
      "execution_count": null,
      "outputs": []
    },
    {
      "cell_type": "code",
      "source": [
        "#Dictionary\n",
        "#Curly bracket\n",
        "patients_age = {\n",
        "    'John' : 65,\n",
        "    'Heather' : 45\n",
        "}\n",
        "print(patients_age)"
      ],
      "metadata": {
        "colab": {
          "base_uri": "https://localhost:8080/"
        },
        "id": "wJOWTfpUCl6v",
        "outputId": "b3aac54e-a17f-4c1b-ba8d-8f0f3e3c37f0"
      },
      "execution_count": 35,
      "outputs": [
        {
          "output_type": "stream",
          "name": "stdout",
          "text": [
            "{'John': 65, 'Heather': 45}\n"
          ]
        }
      ]
    },
    {
      "cell_type": "code",
      "source": [
        "print(patients_age['John'])\n",
        "#Note we called the age by key vs index [0]"
      ],
      "metadata": {
        "colab": {
          "base_uri": "https://localhost:8080/"
        },
        "id": "18YsLtUkC-Nf",
        "outputId": "53952f2f-62a4-480b-ac60-ecadb869d08a"
      },
      "execution_count": 36,
      "outputs": [
        {
          "output_type": "stream",
          "name": "stdout",
          "text": [
            "65\n"
          ]
        }
      ]
    },
    {
      "cell_type": "code",
      "execution_count": null,
      "metadata": {
        "id": "2e8yr7npcKej"
      },
      "outputs": [],
      "source": [
        "#Functions\n",
        "#1 input 1 output\n",
        "def temp_f_to_c (temp_f):\n",
        "  temp_c = (temp_f - 32) * 5/9\n",
        "  return temp_c"
      ]
    },
    {
      "cell_type": "code",
      "source": [
        "temp_f_to_c(96)"
      ],
      "metadata": {
        "colab": {
          "base_uri": "https://localhost:8080/"
        },
        "id": "MZW2WcVPcUBv",
        "outputId": "80b3cd30-7793-4f79-96b3-67d8c99e749f"
      },
      "execution_count": null,
      "outputs": [
        {
          "output_type": "execute_result",
          "data": {
            "text/plain": [
              "35.55555555555556"
            ]
          },
          "metadata": {},
          "execution_count": 5
        }
      ]
    },
    {
      "cell_type": "code",
      "source": [
        "#2 inputs 1 simple output\n",
        "def calculate_BMI(weight, height):\n",
        "  BMI = weight / (height ** 2)\n",
        "  return BMI"
      ],
      "metadata": {
        "id": "rlhZkaCkccHX"
      },
      "execution_count": null,
      "outputs": []
    },
    {
      "cell_type": "code",
      "source": [
        "calculate_BMI(77,1.71)"
      ],
      "metadata": {
        "colab": {
          "base_uri": "https://localhost:8080/"
        },
        "id": "HDVJ66y5co-B",
        "outputId": "fb2fb2cc-af91-4aa6-a116-9d678fee976a"
      },
      "execution_count": null,
      "outputs": [
        {
          "output_type": "execute_result",
          "data": {
            "text/plain": [
              "26.332888752094664"
            ]
          },
          "metadata": {},
          "execution_count": 10
        }
      ]
    },
    {
      "cell_type": "code",
      "source": [
        "#2 inputs 1 complex output\n",
        "def calculate_bmi_category(weight_kg, height_m):\n",
        "    bmi = weight_kg / (height_m ** 2)\n",
        "\n",
        "    if bmi < 18.5:\n",
        "        return f\"BMI: {bmi:.1f} - Underweight\"\n",
        "    elif bmi < 25:\n",
        "        return f\"BMI: {bmi:.1f} - Normal weight\"\n",
        "    elif bmi < 30:\n",
        "        return f\"BMI: {bmi:.1f} - Overweight\"\n",
        "    else:\n",
        "        return f\"BMI: {bmi:.1f} - Obese\"\n"
      ],
      "metadata": {
        "id": "S8hU4ro8f3aS"
      },
      "execution_count": null,
      "outputs": []
    },
    {
      "cell_type": "code",
      "source": [
        "\n",
        "# Use it\n",
        "print(calculate_bmi_category(70, 1.75))  # BMI: 22.9 - Normal weight\n",
        "print(calculate_bmi_category(90, 1.80))  # BMI: 27.8 - Overweight"
      ],
      "metadata": {
        "colab": {
          "base_uri": "https://localhost:8080/"
        },
        "id": "7gUNEX_vf5iZ",
        "outputId": "2cdb3488-0f89-42ff-c1f7-14d2db6b7853"
      },
      "execution_count": null,
      "outputs": [
        {
          "output_type": "stream",
          "name": "stdout",
          "text": [
            "BMI: 22.9 - Normal weight\n",
            "BMI: 27.8 - Overweight\n"
          ]
        }
      ]
    }
  ]
}