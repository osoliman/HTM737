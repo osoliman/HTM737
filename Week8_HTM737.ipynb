{
  "nbformat": 4,
  "nbformat_minor": 0,
  "metadata": {
    "colab": {
      "provenance": [],
      "authorship_tag": "ABX9TyNkQG5D/NlhGIfXVfwjqTyt",
      "include_colab_link": true
    },
    "kernelspec": {
      "name": "python3",
      "display_name": "Python 3"
    },
    "language_info": {
      "name": "python"
    }
  },
  "cells": [
    {
      "cell_type": "markdown",
      "metadata": {
        "id": "view-in-github",
        "colab_type": "text"
      },
      "source": [
        "<a href=\"https://colab.research.google.com/github/osoliman/HTM737/blob/main/Week8_HTM737.ipynb\" target=\"_parent\"><img src=\"https://colab.research.google.com/assets/colab-badge.svg\" alt=\"Open In Colab\"/></a>"
      ]
    },
    {
      "cell_type": "code",
      "execution_count": null,
      "metadata": {
        "id": "T6f5jgUnWzSP"
      },
      "outputs": [],
      "source": [
        "import pandas as pd\n",
        "df = pd.read_csv('https://raw.githubusercontent.com/osoliman/Chapter6_HTM737/refs/heads/main/ESRD.csv')"
      ]
    },
    {
      "cell_type": "code",
      "source": [
        "df.shape"
      ],
      "metadata": {
        "colab": {
          "base_uri": "https://localhost:8080/"
        },
        "id": "YVGGC-LZXTQ-",
        "outputId": "d3918874-5e04-4dc3-e8e7-e04f1dcdba56"
      },
      "execution_count": null,
      "outputs": [
        {
          "output_type": "execute_result",
          "data": {
            "text/plain": [
              "(6825, 153)"
            ]
          },
          "metadata": {},
          "execution_count": 2
        }
      ]
    },
    {
      "cell_type": "code",
      "source": [
        "df.shape[0]"
      ],
      "metadata": {
        "colab": {
          "base_uri": "https://localhost:8080/"
        },
        "id": "bhvjV9r3XYdS",
        "outputId": "d126ce09-b876-4b0a-c858-a91dd004ca64"
      },
      "execution_count": null,
      "outputs": [
        {
          "output_type": "execute_result",
          "data": {
            "text/plain": [
              "6825"
            ]
          },
          "metadata": {},
          "execution_count": 3
        }
      ]
    },
    {
      "cell_type": "code",
      "source": [
        "df.shape[1]"
      ],
      "metadata": {
        "colab": {
          "base_uri": "https://localhost:8080/"
        },
        "id": "1XlQSVoZXbHm",
        "outputId": "74158248-692d-4822-de63-78d11bfeda4e"
      },
      "execution_count": null,
      "outputs": [
        {
          "output_type": "execute_result",
          "data": {
            "text/plain": [
              "153"
            ]
          },
          "metadata": {},
          "execution_count": 4
        }
      ]
    },
    {
      "cell_type": "code",
      "source": [
        "# a little bit more meaningful - let's use the power of Python\n",
        "print(f'The dataset has {df.shape[0]} rows and {df.shape[1]} columns.')\n",
        "#see it without the f"
      ],
      "metadata": {
        "colab": {
          "base_uri": "https://localhost:8080/"
        },
        "id": "XXUhZ8jb2gGJ",
        "outputId": "0e64c03c-41fc-478d-ba18-078204fa426d"
      },
      "execution_count": null,
      "outputs": [
        {
          "output_type": "stream",
          "name": "stdout",
          "text": [
            "The dataset has 6825 rows and 153 columns.\n"
          ]
        }
      ]
    },
    {
      "cell_type": "code",
      "source": [
        "print(df.columns)"
      ],
      "metadata": {
        "colab": {
          "base_uri": "https://localhost:8080/"
        },
        "id": "REIV8bDqX0v_",
        "outputId": "b692a75d-a01c-4501-ad43-16836bf69240"
      },
      "execution_count": null,
      "outputs": [
        {
          "output_type": "stream",
          "name": "stdout",
          "text": [
            "Index(['Facility Name', 'CMS Certification Number (CCN)', 'Alternate CCN 1',\n",
            "       'Address 1', 'Address 2', 'City', 'State', 'Zip Code', 'Network',\n",
            "       'VAT Catheter Measure Score',\n",
            "       ...\n",
            "       'STrR Improvement Measure Rate/Ratio',\n",
            "       'STrR Improvement Period Numerator',\n",
            "       'STrR Improvement Period Denominator', 'STrR Measure Score Applied',\n",
            "       'National Avg STrR Measure Score', 'Total Performance Score',\n",
            "       'PY2018 Payment Reduction Percentage', 'CMS Certification Date',\n",
            "       'Ownership as of December 31, 2016', 'Date of Ownership Record Update'],\n",
            "      dtype='object', length=153)\n"
          ]
        }
      ]
    },
    {
      "cell_type": "code",
      "source": [
        "for column in df.columns:\n",
        "    print(column)"
      ],
      "metadata": {
        "colab": {
          "base_uri": "https://localhost:8080/"
        },
        "id": "PFVrniCHX2sr",
        "outputId": "6419e78e-e355-4737-a99e-05b21eb9dcca"
      },
      "execution_count": null,
      "outputs": [
        {
          "output_type": "stream",
          "name": "stdout",
          "text": [
            "Facility Name\n",
            "CMS Certification Number (CCN)\n",
            "Alternate CCN 1\n",
            "Address 1\n",
            "Address 2\n",
            "City\n",
            "State\n",
            "Zip Code\n",
            "Network\n",
            "VAT Catheter Measure Score\n",
            "VAT Catheter Achievement Measure Rate/Ratio\n",
            "Number of Patients Included in VAT Catheter Measure Score Achievement Period\n",
            "VAT Catheter Achievement Period Numerator\n",
            "VAT Catheter Achievement Period Denominator\n",
            "VAT Catheter Improvement Measure Rate/Ratio\n",
            "VAT Catheter Improvement Period Numerator\n",
            "VAT Catheter Improvement Period Denominator\n",
            "VAT Catheter Measure Score Applied\n",
            "National Avg VAT Catheter Measure Score\n",
            "VAT Fistula Measure Score\n",
            "VAT Fistula Achievement Measure Rate/Ratio\n",
            "Number of Patients Included in VAT Fistula Measure Score Achievement Period\n",
            "VAT Fistula Achievement Period Numerator\n",
            "VAT Fistula Achievement Period Denominator\n",
            "VAT Fistula Improvement Measure Rate/Ratio\n",
            "VAT Fistula Improvement Period Numerator\n",
            "VAT Fistula Improvement Period Denominator\n",
            "VAT Fistula Measure Score Applied\n",
            "National Avg Fistula Measure Score\n",
            "Vascular Access Combined Measure Score\n",
            "National Avg Vascular Access Combined Measure Score\n",
            "Kt/V Adult Hemodialysis Measure Score\n",
            "Kt/V Adult Hemodialysis Achievement Measure Rate/Ratio\n",
            "Number of Patients Included in Kt/V Adult Hemodialysis Measure Score Achievement Period\n",
            "Kt/V Adult Hemodialysis Achievement Period Numerator\n",
            "Kt/V Adult Hemodialysis Achievement Period Denominator\n",
            "Kt/V Adult Hemodialysis Improvement Measure Rate/Ratio\n",
            "Kt/V Adult Hemodialysis Improvement Period Numerator\n",
            "Kt/V Adult Hemodialysis Improvement Period Denominator\n",
            "Kt/V Adult Hemodialysis Measure Score Applied\n",
            "National Avg Kt/V Adult Hemodialysis Measure Score\n",
            "Kt/V Adult Peritoneal Dialysis Measure Score\n",
            "Kt/V Adult Peritoneal Dialysis Achievement Measure Rate/Ratio\n",
            "Number of Patients Included in Kt/V Adult Peritoneal Dialysis Measure Score Achievement Period\n",
            "Kt/V Adult Peritoneal Dialysis Achievement Period Numerator\n",
            "Kt/V Adult Peritoneal Dialysis Achievement Period Denominator\n",
            "Kt/V Adult Peritoneal Dialysis Improvement Measure Rate/Ratio\n",
            "Kt/V Adult Peritoneal Dialysis Improvement Period Numerator\n",
            "Kt/V Adult Peritoneal Dialysis Improvement Period Denominator\n",
            "Kt/V Adult Peritoneal Dialysis Measure Score Applied\n",
            "National Avg Kt/V Adult Peritoneal Dialysis Measure Score\n",
            "Kt/V Pediatric Hemodialysis Measure Score\n",
            "Kt/V Pediatric Hemodialysis Achievement Measure Rate/Ratio\n",
            "Number of Patients Included in Kt/V Pediatric Hemodialysis Measure Score Achievement Period\n",
            "Kt/V Pediatric Hemodialysis Achievement Period Numerator\n",
            "Kt/V Pediatric Hemodialysis Achievement Period Denominator\n",
            "Kt/V Pediatric Hemodialysis Improvement Measure Rate/Ratio\n",
            "Kt/V Pediatric Hemodialysis Improvement Period Numerator\n",
            "Kt/V Pediatric Hemodialysis Improvement Period Denominator\n",
            "Kt/V Pediatric Hemodialysis Measure Score Applied\n",
            "National Avg Kt/V Pediatric Hemodialysis Measure Score\n",
            "Kt/V Pediatric Peritoneal Dialysis Measure Score\n",
            "Kt/V Pediatric Peritoneal Dialysis Achievement Measure Rate/Ratio\n",
            "Number of Patients Included in Kt/V Pediatric Peritoneal Dialysis Measure Score Achievement Period\n",
            "Kt/V Pediatric Peritoneal Dialysis Achievement Period Numerator\n",
            "Kt/V Pediatric Peritoneal Dialysis Achievement Period Denominator\n",
            "Kt/V Pediatric Peritoneal Dialysis Improvement Measure Rate/Ratio\n",
            "Kt/V Pediatric Peritoneal Dialysis Improvement Period Numerator\n",
            "Kt/V Pediatric Peritoneal Dialysis Improvement Period Denominator\n",
            "Kt/V Pediatric Peritoneal Dialysis Measure Score Applied\n",
            "National Avg Kt/V Pediatric Peritoneal Dialysis Measure Score\n",
            "Kt/V Dialysis Adequacy Combined Measure Score\n",
            "National Avg Kt/V Dialysis Adequacy Combined Measure Score\n",
            "Hypercalcemia Measure Score\n",
            "Hypercalcemia Achievement Measure Rate/Ratio\n",
            "Number of Patients Included in Hypercalcemia Measure Score Achievement Period\n",
            "Hypercalcemia Achievement Period Numerator\n",
            "Hypercalcemia Achievement Period Denominator\n",
            "Hypercalcemia Improvement Measure Rate/Ratio\n",
            "Hypercalcemia Improvement Period Numerator\n",
            "Hypercalcemia Improvement Period Denominator\n",
            "Hypercalcemia Measure Score Applied\n",
            "National Avg Hypercalcemia Measure Score\n",
            "NHSN BSI Measure Score\n",
            "NHSN BSI Achievement Measure Rate/Ratio\n",
            "Number of Patients Eligible for NHSN BSI Measure Score Achievement Period\n",
            "NHSN BSI Achievement Period Numerator\n",
            "NHSN BSI Achievement Period Denominator\n",
            "NHSN BSI Improvement Measure Rate/Ratio\n",
            "NHSN BSI Improvement Period Numerator\n",
            "NHSN BSI Improvement Period Denominator\n",
            "NHSN BSI Measure Score Applied\n",
            "National Avg NHSN BSI Measure Score\n",
            "ICH CAHPS Measure Score\n",
            "National Avg ICH CAHPS Measure Score\n",
            "ICH CAHPS Count of Completed Surveys\n",
            "ICH CAHPS Neph Comm and Caring Achievement Rate\n",
            "ICH CAHPS Neph Comm and Caring Improvement Rate\n",
            "ICH CAHPS Neph Comm and Caring Measure Score Applied\n",
            "ICH CAHPS Quality of Dialysis Care and Ops Achievement Rate\n",
            "ICH CAHPS Quality of Dialysis Care and Ops Improvement Rate\n",
            "ICH CAHPS Quality of Dialysis Care and Ops Measure Score Applied\n",
            "ICH CAHPS Providing Info to Patients Achievement Rate\n",
            "ICH CAHPS Providing Info to Patients Improvement Rate\n",
            "ICH CAHPS Providing Info to Patients Measure Score Applied\n",
            "ICH CAHPS Overall Rating of Neph Achievement Rate\n",
            "ICH CAHPS Overall Rating of Neph Improvement Rate\n",
            "ICH CAHPS Overall Rating of Neph Measure Score Applied\n",
            "ICH CAHPS Overall Rating of Dialysis Staff Achievement Rate\n",
            "ICH CAHPS Overall Rating of Dialysis Staff Improvement Rate\n",
            "ICH CAHPS Overall Rating of Dialysis Staff Measure Score Applied\n",
            "ICH CAHPS Overall Rating of Dialysis Facility Achievement Rate\n",
            "ICH CAHPS Overall Rating of Dialysis Facility Improvement Rate\n",
            "ICH CAHPS Overall Rating of Dialysis Facility Measure Score Applied\n",
            "Mineral Metabolism Measure Score\n",
            "Number of Patients Included in Mineral Metabolism Measure Score Achievement Period\n",
            "National Avg Mineral Metabolism Measure Score\n",
            "Anemia Management Measure Score\n",
            "Number of Patients Included in Anemia Management Measure Score Achievement Period\n",
            "National Avg Anemia Management Measure Score\n",
            "Clinical Depression Screening and Follow-up Measure Score\n",
            "Number of Patients Included in Clinical Depression Screening and Follow-up Measure Score Achievement Period\n",
            "National Avg Clinical Depression Screening and Follow-up Measure Score\n",
            "NHSN Influenza Measure Score\n",
            "National Avg NHSN Influenza Measure Score\n",
            "Pain Assessment and Follow-up Measure Score\n",
            "Number of Patients Included in Pain Assessment and Follow-up Measure Score Achievement Period\n",
            "National Avg Pain Assessment and Follow-up Measure Score\n",
            "SRR Measure Score\n",
            "SRR Achievement Measure Rate/Ratio\n",
            "SRR Index Discharges included in Achievement Period\n",
            "SRR Achievement Period Numerator\n",
            "SRR Achievement Period Denominator\n",
            "SRR Improvement Measure Rate/Ratio\n",
            "SRR Improvement Period Numerator\n",
            "SRR Improvement Period Denominator\n",
            "SRR Measure Score Applied\n",
            "National Avg SRR Measure Score\n",
            "STrR Measure Score\n",
            "STrR Achievement Measure Rate/Ratio\n",
            "STrR Patient-Years at Risk\n",
            "STrR Achievement Period Numerator\n",
            "STrR Achievement Period Denominator\n",
            "STrR Improvement Measure Rate/Ratio\n",
            "STrR Improvement Period Numerator\n",
            "STrR Improvement Period Denominator\n",
            "STrR Measure Score Applied\n",
            "National Avg STrR Measure Score\n",
            "Total Performance Score\n",
            "PY2018 Payment Reduction Percentage\n",
            "CMS Certification Date\n",
            "Ownership as of December 31, 2016\n",
            "Date of Ownership Record Update\n"
          ]
        }
      ]
    },
    {
      "cell_type": "code",
      "source": [
        "#search for columns with a specific word\n",
        "for column in df.columns:\n",
        "    if 'performance' in column.lower():\n",
        "        print(column)\n",
        "#try it with words like \"measure\", \"state\""
      ],
      "metadata": {
        "colab": {
          "base_uri": "https://localhost:8080/"
        },
        "id": "nUHQ7PoAmv6v",
        "outputId": "95a00d7e-bc2d-4199-a293-75d06fc00ac6"
      },
      "execution_count": null,
      "outputs": [
        {
          "output_type": "stream",
          "name": "stdout",
          "text": [
            "Total Performance Score\n"
          ]
        }
      ]
    },
    {
      "cell_type": "code",
      "source": [
        "#Q1: Geographical analysis of dialysis centers\n",
        "df_states = df.groupby('State').size().sort_values(ascending=False).head(10)\n",
        "print(df_states)"
      ],
      "metadata": {
        "colab": {
          "base_uri": "https://localhost:8080/"
        },
        "id": "8Y_fu4sRYCpS",
        "outputId": "a7ce59cf-29c0-4b72-ce34-ee71420735db"
      },
      "execution_count": null,
      "outputs": [
        {
          "output_type": "stream",
          "name": "stdout",
          "text": [
            "State\n",
            "CA    625\n",
            "TX    605\n",
            "FL    433\n",
            "GA    345\n",
            "OH    314\n",
            "IL    299\n",
            "PA    294\n",
            "NY    274\n",
            "NC    211\n",
            "MI    211\n",
            "dtype: int64\n"
          ]
        }
      ]
    },
    {
      "cell_type": "code",
      "source": [
        "df_ca = df[df['State'] == 'CA']\n",
        "print(df_ca)"
      ],
      "metadata": {
        "colab": {
          "base_uri": "https://localhost:8080/"
        },
        "id": "5kExMcHFhJqM",
        "outputId": "cba2c08f-7565-4905-b3d6-1ae72bffd576"
      },
      "execution_count": null,
      "outputs": [
        {
          "output_type": "stream",
          "name": "stdout",
          "text": [
            "                                        Facility Name  \\\n",
            "368              SANTA CLARA VALLEY RENAL CARE CENTER   \n",
            "369                 CHILDRENS HOSPITAL OF LOS ANGELES   \n",
            "370   KAISER FOUNDATION HOSPITAL MEDICAL CTR.- SUNSET   \n",
            "371                 ARROWHEAD REGIONAL MEDICAL CENTER   \n",
            "372              LOMA LINDA UNIVERSITY MEDICAL CENTER   \n",
            "...                                               ...   \n",
            "6398                           DAVITA-AVALON DIALYSIS   \n",
            "6399                      KERMAN DIALYSIS CENTER, LLC   \n",
            "6400                       FMC-SOUTH BAY HOME THERAPY   \n",
            "6401                      DAVITA-BEVERLYWOOD DIALYSIS   \n",
            "6402                        DAVITA-EL DORADO DIALYSIS   \n",
            "\n",
            "      CMS Certification Number (CCN) Alternate CCN 1  \\\n",
            "368                            52305          050038   \n",
            "369                            52321          053302   \n",
            "370                            52323          050138   \n",
            "371                            52334          050245   \n",
            "372                            52342          050327   \n",
            "...                              ...             ...   \n",
            "6398                          552793               -   \n",
            "6399                          552797               -   \n",
            "6400                          552799               -   \n",
            "6401                          552800               -   \n",
            "6402                          552801               -   \n",
            "\n",
            "                                              Address 1 Address 2  \\\n",
            "368                                2220 MOORPARK AVENUE         -   \n",
            "369   DIVISION OF NEPHROLOGY (DIALYSIS) 4650 SUNSET ...         -   \n",
            "370          DIALYSIS UNIT 4700 SUNSET BLVD., 2ND FLOOR         -   \n",
            "371                                400 N. PEPPER AVENUE         -   \n",
            "372     CHILDRENS HOSPITAL 11234 ANDERSON ST., RM. 2812         -   \n",
            "...                                                 ...       ...   \n",
            "6398                               5807 S. AVALON BLVD.         -   \n",
            "6399                      14945 WEST WHITEBRIDGE AVENUE         -   \n",
            "6400                         1223 PACIFIC COAST HIGHWAY         -   \n",
            "6401                  2080 CENTURY PARK EAST, SUITE 210         -   \n",
            "6402                                2977 REDONDO AVENUE         -   \n",
            "\n",
            "             City State  Zip Code  Network VAT Catheter Measure Score  ...  \\\n",
            "368      SAN JOSE    CA     95128       17                          0  ...   \n",
            "369   LOS ANGELES    CA     90027       18                   No Score  ...   \n",
            "370   LOS ANGELES    CA     90027       18                   No Score  ...   \n",
            "371        COLTON    CA     92324       18                          8  ...   \n",
            "372    LOMA LINDA    CA     92354       18                   No Score  ...   \n",
            "...           ...   ...       ...      ...                        ...  ...   \n",
            "6398  LOS ANGELES    CA     90011       18                   No Score  ...   \n",
            "6399       KERMAN    CA     93630       17                   No Score  ...   \n",
            "6400  HARBOR CITY    CA     90710       18                   No Score  ...   \n",
            "6401  LOS ANGELES    CA     90067       18                   No Score  ...   \n",
            "6402   LONG BEACH    CA     90806       18                   No Score  ...   \n",
            "\n",
            "     STrR Improvement Measure Rate/Ratio STrR Improvement Period Numerator  \\\n",
            "368                                0.802                              36.0   \n",
            "369                             No Ratio                               NaN   \n",
            "370                                2.202                              20.0   \n",
            "371                             No Ratio                               NaN   \n",
            "372                             No Ratio                               NaN   \n",
            "...                                  ...                               ...   \n",
            "6398                            No Ratio                               NaN   \n",
            "6399                            No Ratio                               NaN   \n",
            "6400                            No Ratio                               NaN   \n",
            "6401                            No Ratio                               NaN   \n",
            "6402                            No Ratio                               NaN   \n",
            "\n",
            "      STrR Improvement Period Denominator  STrR Measure Score Applied  \\\n",
            "368                                44.872                 Achievement   \n",
            "369                                   NaN                         NaN   \n",
            "370                                 9.082                 Achievement   \n",
            "371                                   NaN                         NaN   \n",
            "372                                   NaN                         NaN   \n",
            "...                                   ...                         ...   \n",
            "6398                                  NaN                         NaN   \n",
            "6399                                  NaN                         NaN   \n",
            "6400                                  NaN                         NaN   \n",
            "6401                                  NaN                         NaN   \n",
            "6402                                  NaN                         NaN   \n",
            "\n",
            "     National Avg STrR Measure Score  Total Performance Score  \\\n",
            "368                                5                       59   \n",
            "369                                5                       39   \n",
            "370                                5                       32   \n",
            "371                                5                       79   \n",
            "372                                5                       19   \n",
            "...                              ...                      ...   \n",
            "6398                               5                 No Score   \n",
            "6399                               5                 No Score   \n",
            "6400                               5                 No Score   \n",
            "6401                               5                 No Score   \n",
            "6402                               5                 No Score   \n",
            "\n",
            "      PY2018 Payment Reduction Percentage CMS Certification Date  \\\n",
            "368                          No Reduction              8/22/1977   \n",
            "369                                 0.50%              7/28/1977   \n",
            "370                                 1.00%              7/25/1977   \n",
            "371                          No Reduction              4/28/2006   \n",
            "372                                 1.50%              8/11/1977   \n",
            "...                                   ...                    ...   \n",
            "6398                         No Reduction              7/11/2016   \n",
            "6399                         No Reduction              9/30/2016   \n",
            "6400                         No Reduction             10/18/2016   \n",
            "6401                         No Reduction             10/26/2016   \n",
            "6402                         No Reduction              9/19/2016   \n",
            "\n",
            "      Ownership as of December 31, 2016 Date of Ownership Record Update  \n",
            "368                         NOT A CHAIN                       9/19/2001  \n",
            "369                         NOT A CHAIN                       1/11/2016  \n",
            "370                         NOT A CHAIN                       5/20/1999  \n",
            "371                         NOT A CHAIN                        5/2/2016  \n",
            "372                         NOT A CHAIN                        6/4/1999  \n",
            "...                                 ...                             ...  \n",
            "6398                             DAVITA                       1/12/2017  \n",
            "6399          AMERICAN RENAL ASSOCIATES                        2/8/2017  \n",
            "6400             FRESENIUS MEDICAL CARE                       3/30/2017  \n",
            "6401                             DAVITA                       4/18/2017  \n",
            "6402                             DAVITA                       4/18/2017  \n",
            "\n",
            "[625 rows x 153 columns]\n"
          ]
        }
      ]
    },
    {
      "cell_type": "code",
      "source": [
        "#Q2: Total performance score analysis"
      ],
      "metadata": {
        "id": "_A0fFcgmrgLo"
      },
      "execution_count": null,
      "outputs": []
    },
    {
      "cell_type": "code",
      "source": [
        "df.groupby('State')['Total Performance Score'].mean().sort_values(ascending=False).head(10)"
      ],
      "metadata": {
        "colab": {
          "base_uri": "https://localhost:8080/",
          "height": 401
        },
        "id": "SnWPPz1gu39D",
        "outputId": "e8257a6e-f8a9-4acf-d4ce-2d06411433b5"
      },
      "execution_count": null,
      "outputs": [
        {
          "output_type": "error",
          "ename": "TypeError",
          "evalue": "agg function failed [how->mean,dtype->object]",
          "traceback": [
            "\u001b[0;31m---------------------------------------------------------------------------\u001b[0m",
            "\u001b[0;31mTypeError\u001b[0m                                 Traceback (most recent call last)",
            "\u001b[0;32m/usr/local/lib/python3.12/dist-packages/pandas/core/groupby/groupby.py\u001b[0m in \u001b[0;36m_agg_py_fallback\u001b[0;34m(self, how, values, ndim, alt)\u001b[0m\n\u001b[1;32m   1941\u001b[0m         \u001b[0;32mtry\u001b[0m\u001b[0;34m:\u001b[0m\u001b[0;34m\u001b[0m\u001b[0;34m\u001b[0m\u001b[0m\n\u001b[0;32m-> 1942\u001b[0;31m             \u001b[0mres_values\u001b[0m \u001b[0;34m=\u001b[0m \u001b[0mself\u001b[0m\u001b[0;34m.\u001b[0m\u001b[0m_grouper\u001b[0m\u001b[0;34m.\u001b[0m\u001b[0magg_series\u001b[0m\u001b[0;34m(\u001b[0m\u001b[0mser\u001b[0m\u001b[0;34m,\u001b[0m \u001b[0malt\u001b[0m\u001b[0;34m,\u001b[0m \u001b[0mpreserve_dtype\u001b[0m\u001b[0;34m=\u001b[0m\u001b[0;32mTrue\u001b[0m\u001b[0;34m)\u001b[0m\u001b[0;34m\u001b[0m\u001b[0;34m\u001b[0m\u001b[0m\n\u001b[0m\u001b[1;32m   1943\u001b[0m         \u001b[0;32mexcept\u001b[0m \u001b[0mException\u001b[0m \u001b[0;32mas\u001b[0m \u001b[0merr\u001b[0m\u001b[0;34m:\u001b[0m\u001b[0;34m\u001b[0m\u001b[0;34m\u001b[0m\u001b[0m\n",
            "\u001b[0;32m/usr/local/lib/python3.12/dist-packages/pandas/core/groupby/ops.py\u001b[0m in \u001b[0;36magg_series\u001b[0;34m(self, obj, func, preserve_dtype)\u001b[0m\n\u001b[1;32m    863\u001b[0m \u001b[0;34m\u001b[0m\u001b[0m\n\u001b[0;32m--> 864\u001b[0;31m         \u001b[0mresult\u001b[0m \u001b[0;34m=\u001b[0m \u001b[0mself\u001b[0m\u001b[0;34m.\u001b[0m\u001b[0m_aggregate_series_pure_python\u001b[0m\u001b[0;34m(\u001b[0m\u001b[0mobj\u001b[0m\u001b[0;34m,\u001b[0m \u001b[0mfunc\u001b[0m\u001b[0;34m)\u001b[0m\u001b[0;34m\u001b[0m\u001b[0;34m\u001b[0m\u001b[0m\n\u001b[0m\u001b[1;32m    865\u001b[0m \u001b[0;34m\u001b[0m\u001b[0m\n",
            "\u001b[0;32m/usr/local/lib/python3.12/dist-packages/pandas/core/groupby/ops.py\u001b[0m in \u001b[0;36m_aggregate_series_pure_python\u001b[0;34m(self, obj, func)\u001b[0m\n\u001b[1;32m    884\u001b[0m         \u001b[0;32mfor\u001b[0m \u001b[0mi\u001b[0m\u001b[0;34m,\u001b[0m \u001b[0mgroup\u001b[0m \u001b[0;32min\u001b[0m \u001b[0menumerate\u001b[0m\u001b[0;34m(\u001b[0m\u001b[0msplitter\u001b[0m\u001b[0;34m)\u001b[0m\u001b[0;34m:\u001b[0m\u001b[0;34m\u001b[0m\u001b[0;34m\u001b[0m\u001b[0m\n\u001b[0;32m--> 885\u001b[0;31m             \u001b[0mres\u001b[0m \u001b[0;34m=\u001b[0m \u001b[0mfunc\u001b[0m\u001b[0;34m(\u001b[0m\u001b[0mgroup\u001b[0m\u001b[0;34m)\u001b[0m\u001b[0;34m\u001b[0m\u001b[0;34m\u001b[0m\u001b[0m\n\u001b[0m\u001b[1;32m    886\u001b[0m             \u001b[0mres\u001b[0m \u001b[0;34m=\u001b[0m \u001b[0mextract_result\u001b[0m\u001b[0;34m(\u001b[0m\u001b[0mres\u001b[0m\u001b[0;34m)\u001b[0m\u001b[0;34m\u001b[0m\u001b[0;34m\u001b[0m\u001b[0m\n",
            "\u001b[0;32m/usr/local/lib/python3.12/dist-packages/pandas/core/groupby/groupby.py\u001b[0m in \u001b[0;36m<lambda>\u001b[0;34m(x)\u001b[0m\n\u001b[1;32m   2453\u001b[0m                 \u001b[0;34m\"mean\"\u001b[0m\u001b[0;34m,\u001b[0m\u001b[0;34m\u001b[0m\u001b[0;34m\u001b[0m\u001b[0m\n\u001b[0;32m-> 2454\u001b[0;31m                 \u001b[0malt\u001b[0m\u001b[0;34m=\u001b[0m\u001b[0;32mlambda\u001b[0m \u001b[0mx\u001b[0m\u001b[0;34m:\u001b[0m \u001b[0mSeries\u001b[0m\u001b[0;34m(\u001b[0m\u001b[0mx\u001b[0m\u001b[0;34m,\u001b[0m \u001b[0mcopy\u001b[0m\u001b[0;34m=\u001b[0m\u001b[0;32mFalse\u001b[0m\u001b[0;34m)\u001b[0m\u001b[0;34m.\u001b[0m\u001b[0mmean\u001b[0m\u001b[0;34m(\u001b[0m\u001b[0mnumeric_only\u001b[0m\u001b[0;34m=\u001b[0m\u001b[0mnumeric_only\u001b[0m\u001b[0;34m)\u001b[0m\u001b[0;34m,\u001b[0m\u001b[0;34m\u001b[0m\u001b[0;34m\u001b[0m\u001b[0m\n\u001b[0m\u001b[1;32m   2455\u001b[0m                 \u001b[0mnumeric_only\u001b[0m\u001b[0;34m=\u001b[0m\u001b[0mnumeric_only\u001b[0m\u001b[0;34m,\u001b[0m\u001b[0;34m\u001b[0m\u001b[0;34m\u001b[0m\u001b[0m\n",
            "\u001b[0;32m/usr/local/lib/python3.12/dist-packages/pandas/core/series.py\u001b[0m in \u001b[0;36mmean\u001b[0;34m(self, axis, skipna, numeric_only, **kwargs)\u001b[0m\n\u001b[1;32m   6548\u001b[0m     ):\n\u001b[0;32m-> 6549\u001b[0;31m         \u001b[0;32mreturn\u001b[0m \u001b[0mNDFrame\u001b[0m\u001b[0;34m.\u001b[0m\u001b[0mmean\u001b[0m\u001b[0;34m(\u001b[0m\u001b[0mself\u001b[0m\u001b[0;34m,\u001b[0m \u001b[0maxis\u001b[0m\u001b[0;34m,\u001b[0m \u001b[0mskipna\u001b[0m\u001b[0;34m,\u001b[0m \u001b[0mnumeric_only\u001b[0m\u001b[0;34m,\u001b[0m \u001b[0;34m**\u001b[0m\u001b[0mkwargs\u001b[0m\u001b[0;34m)\u001b[0m\u001b[0;34m\u001b[0m\u001b[0;34m\u001b[0m\u001b[0m\n\u001b[0m\u001b[1;32m   6550\u001b[0m \u001b[0;34m\u001b[0m\u001b[0m\n",
            "\u001b[0;32m/usr/local/lib/python3.12/dist-packages/pandas/core/generic.py\u001b[0m in \u001b[0;36mmean\u001b[0;34m(self, axis, skipna, numeric_only, **kwargs)\u001b[0m\n\u001b[1;32m  12419\u001b[0m     ) -> Series | float:\n\u001b[0;32m> 12420\u001b[0;31m         return self._stat_function(\n\u001b[0m\u001b[1;32m  12421\u001b[0m             \u001b[0;34m\"mean\"\u001b[0m\u001b[0;34m,\u001b[0m \u001b[0mnanops\u001b[0m\u001b[0;34m.\u001b[0m\u001b[0mnanmean\u001b[0m\u001b[0;34m,\u001b[0m \u001b[0maxis\u001b[0m\u001b[0;34m,\u001b[0m \u001b[0mskipna\u001b[0m\u001b[0;34m,\u001b[0m \u001b[0mnumeric_only\u001b[0m\u001b[0;34m,\u001b[0m \u001b[0;34m**\u001b[0m\u001b[0mkwargs\u001b[0m\u001b[0;34m\u001b[0m\u001b[0;34m\u001b[0m\u001b[0m\n",
            "\u001b[0;32m/usr/local/lib/python3.12/dist-packages/pandas/core/generic.py\u001b[0m in \u001b[0;36m_stat_function\u001b[0;34m(self, name, func, axis, skipna, numeric_only, **kwargs)\u001b[0m\n\u001b[1;32m  12376\u001b[0m \u001b[0;34m\u001b[0m\u001b[0m\n\u001b[0;32m> 12377\u001b[0;31m         return self._reduce(\n\u001b[0m\u001b[1;32m  12378\u001b[0m             \u001b[0mfunc\u001b[0m\u001b[0;34m,\u001b[0m \u001b[0mname\u001b[0m\u001b[0;34m=\u001b[0m\u001b[0mname\u001b[0m\u001b[0;34m,\u001b[0m \u001b[0maxis\u001b[0m\u001b[0;34m=\u001b[0m\u001b[0maxis\u001b[0m\u001b[0;34m,\u001b[0m \u001b[0mskipna\u001b[0m\u001b[0;34m=\u001b[0m\u001b[0mskipna\u001b[0m\u001b[0;34m,\u001b[0m \u001b[0mnumeric_only\u001b[0m\u001b[0;34m=\u001b[0m\u001b[0mnumeric_only\u001b[0m\u001b[0;34m\u001b[0m\u001b[0;34m\u001b[0m\u001b[0m\n",
            "\u001b[0;32m/usr/local/lib/python3.12/dist-packages/pandas/core/series.py\u001b[0m in \u001b[0;36m_reduce\u001b[0;34m(self, op, name, axis, skipna, numeric_only, filter_type, **kwds)\u001b[0m\n\u001b[1;32m   6456\u001b[0m                 )\n\u001b[0;32m-> 6457\u001b[0;31m             \u001b[0;32mreturn\u001b[0m \u001b[0mop\u001b[0m\u001b[0;34m(\u001b[0m\u001b[0mdelegate\u001b[0m\u001b[0;34m,\u001b[0m \u001b[0mskipna\u001b[0m\u001b[0;34m=\u001b[0m\u001b[0mskipna\u001b[0m\u001b[0;34m,\u001b[0m \u001b[0;34m**\u001b[0m\u001b[0mkwds\u001b[0m\u001b[0;34m)\u001b[0m\u001b[0;34m\u001b[0m\u001b[0;34m\u001b[0m\u001b[0m\n\u001b[0m\u001b[1;32m   6458\u001b[0m \u001b[0;34m\u001b[0m\u001b[0m\n",
            "\u001b[0;32m/usr/local/lib/python3.12/dist-packages/pandas/core/nanops.py\u001b[0m in \u001b[0;36mf\u001b[0;34m(values, axis, skipna, **kwds)\u001b[0m\n\u001b[1;32m    146\u001b[0m             \u001b[0;32melse\u001b[0m\u001b[0;34m:\u001b[0m\u001b[0;34m\u001b[0m\u001b[0;34m\u001b[0m\u001b[0m\n\u001b[0;32m--> 147\u001b[0;31m                 \u001b[0mresult\u001b[0m \u001b[0;34m=\u001b[0m \u001b[0malt\u001b[0m\u001b[0;34m(\u001b[0m\u001b[0mvalues\u001b[0m\u001b[0;34m,\u001b[0m \u001b[0maxis\u001b[0m\u001b[0;34m=\u001b[0m\u001b[0maxis\u001b[0m\u001b[0;34m,\u001b[0m \u001b[0mskipna\u001b[0m\u001b[0;34m=\u001b[0m\u001b[0mskipna\u001b[0m\u001b[0;34m,\u001b[0m \u001b[0;34m**\u001b[0m\u001b[0mkwds\u001b[0m\u001b[0;34m)\u001b[0m\u001b[0;34m\u001b[0m\u001b[0;34m\u001b[0m\u001b[0m\n\u001b[0m\u001b[1;32m    148\u001b[0m \u001b[0;34m\u001b[0m\u001b[0m\n",
            "\u001b[0;32m/usr/local/lib/python3.12/dist-packages/pandas/core/nanops.py\u001b[0m in \u001b[0;36mnew_func\u001b[0;34m(values, axis, skipna, mask, **kwargs)\u001b[0m\n\u001b[1;32m    403\u001b[0m \u001b[0;34m\u001b[0m\u001b[0m\n\u001b[0;32m--> 404\u001b[0;31m         \u001b[0mresult\u001b[0m \u001b[0;34m=\u001b[0m \u001b[0mfunc\u001b[0m\u001b[0;34m(\u001b[0m\u001b[0mvalues\u001b[0m\u001b[0;34m,\u001b[0m \u001b[0maxis\u001b[0m\u001b[0;34m=\u001b[0m\u001b[0maxis\u001b[0m\u001b[0;34m,\u001b[0m \u001b[0mskipna\u001b[0m\u001b[0;34m=\u001b[0m\u001b[0mskipna\u001b[0m\u001b[0;34m,\u001b[0m \u001b[0mmask\u001b[0m\u001b[0;34m=\u001b[0m\u001b[0mmask\u001b[0m\u001b[0;34m,\u001b[0m \u001b[0;34m**\u001b[0m\u001b[0mkwargs\u001b[0m\u001b[0;34m)\u001b[0m\u001b[0;34m\u001b[0m\u001b[0;34m\u001b[0m\u001b[0m\n\u001b[0m\u001b[1;32m    405\u001b[0m \u001b[0;34m\u001b[0m\u001b[0m\n",
            "\u001b[0;32m/usr/local/lib/python3.12/dist-packages/pandas/core/nanops.py\u001b[0m in \u001b[0;36mnanmean\u001b[0;34m(values, axis, skipna, mask)\u001b[0m\n\u001b[1;32m    719\u001b[0m     \u001b[0mthe_sum\u001b[0m \u001b[0;34m=\u001b[0m \u001b[0mvalues\u001b[0m\u001b[0;34m.\u001b[0m\u001b[0msum\u001b[0m\u001b[0;34m(\u001b[0m\u001b[0maxis\u001b[0m\u001b[0;34m,\u001b[0m \u001b[0mdtype\u001b[0m\u001b[0;34m=\u001b[0m\u001b[0mdtype_sum\u001b[0m\u001b[0;34m)\u001b[0m\u001b[0;34m\u001b[0m\u001b[0;34m\u001b[0m\u001b[0m\n\u001b[0;32m--> 720\u001b[0;31m     \u001b[0mthe_sum\u001b[0m \u001b[0;34m=\u001b[0m \u001b[0m_ensure_numeric\u001b[0m\u001b[0;34m(\u001b[0m\u001b[0mthe_sum\u001b[0m\u001b[0;34m)\u001b[0m\u001b[0;34m\u001b[0m\u001b[0;34m\u001b[0m\u001b[0m\n\u001b[0m\u001b[1;32m    721\u001b[0m \u001b[0;34m\u001b[0m\u001b[0m\n",
            "\u001b[0;32m/usr/local/lib/python3.12/dist-packages/pandas/core/nanops.py\u001b[0m in \u001b[0;36m_ensure_numeric\u001b[0;34m(x)\u001b[0m\n\u001b[1;32m   1700\u001b[0m             \u001b[0;31m# GH#44008, GH#36703 avoid casting e.g. strings to numeric\u001b[0m\u001b[0;34m\u001b[0m\u001b[0;34m\u001b[0m\u001b[0m\n\u001b[0;32m-> 1701\u001b[0;31m             \u001b[0;32mraise\u001b[0m \u001b[0mTypeError\u001b[0m\u001b[0;34m(\u001b[0m\u001b[0;34mf\"Could not convert string '{x}' to numeric\"\u001b[0m\u001b[0;34m)\u001b[0m\u001b[0;34m\u001b[0m\u001b[0;34m\u001b[0m\u001b[0m\n\u001b[0m\u001b[1;32m   1702\u001b[0m         \u001b[0;32mtry\u001b[0m\u001b[0;34m:\u001b[0m\u001b[0;34m\u001b[0m\u001b[0;34m\u001b[0m\u001b[0m\n",
            "\u001b[0;31mTypeError\u001b[0m: Could not convert string '7457586472876256No Score' to numeric",
            "\nThe above exception was the direct cause of the following exception:\n",
            "\u001b[0;31mTypeError\u001b[0m                                 Traceback (most recent call last)",
            "\u001b[0;32m/tmp/ipython-input-357137742.py\u001b[0m in \u001b[0;36m<cell line: 0>\u001b[0;34m()\u001b[0m\n\u001b[0;32m----> 1\u001b[0;31m \u001b[0mdf\u001b[0m\u001b[0;34m.\u001b[0m\u001b[0mgroupby\u001b[0m\u001b[0;34m(\u001b[0m\u001b[0;34m'State'\u001b[0m\u001b[0;34m)\u001b[0m\u001b[0;34m[\u001b[0m\u001b[0;34m'Total Performance Score'\u001b[0m\u001b[0;34m]\u001b[0m\u001b[0;34m.\u001b[0m\u001b[0mmean\u001b[0m\u001b[0;34m(\u001b[0m\u001b[0;34m)\u001b[0m\u001b[0;34m.\u001b[0m\u001b[0msort_values\u001b[0m\u001b[0;34m(\u001b[0m\u001b[0mascending\u001b[0m\u001b[0;34m=\u001b[0m\u001b[0;32mFalse\u001b[0m\u001b[0;34m)\u001b[0m\u001b[0;34m.\u001b[0m\u001b[0mhead\u001b[0m\u001b[0;34m(\u001b[0m\u001b[0;36m10\u001b[0m\u001b[0;34m)\u001b[0m\u001b[0;34m\u001b[0m\u001b[0;34m\u001b[0m\u001b[0m\n\u001b[0m",
            "\u001b[0;32m/usr/local/lib/python3.12/dist-packages/pandas/core/groupby/groupby.py\u001b[0m in \u001b[0;36mmean\u001b[0;34m(self, numeric_only, engine, engine_kwargs)\u001b[0m\n\u001b[1;32m   2450\u001b[0m             )\n\u001b[1;32m   2451\u001b[0m         \u001b[0;32melse\u001b[0m\u001b[0;34m:\u001b[0m\u001b[0;34m\u001b[0m\u001b[0;34m\u001b[0m\u001b[0m\n\u001b[0;32m-> 2452\u001b[0;31m             result = self._cython_agg_general(\n\u001b[0m\u001b[1;32m   2453\u001b[0m                 \u001b[0;34m\"mean\"\u001b[0m\u001b[0;34m,\u001b[0m\u001b[0;34m\u001b[0m\u001b[0;34m\u001b[0m\u001b[0m\n\u001b[1;32m   2454\u001b[0m                 \u001b[0malt\u001b[0m\u001b[0;34m=\u001b[0m\u001b[0;32mlambda\u001b[0m \u001b[0mx\u001b[0m\u001b[0;34m:\u001b[0m \u001b[0mSeries\u001b[0m\u001b[0;34m(\u001b[0m\u001b[0mx\u001b[0m\u001b[0;34m,\u001b[0m \u001b[0mcopy\u001b[0m\u001b[0;34m=\u001b[0m\u001b[0;32mFalse\u001b[0m\u001b[0;34m)\u001b[0m\u001b[0;34m.\u001b[0m\u001b[0mmean\u001b[0m\u001b[0;34m(\u001b[0m\u001b[0mnumeric_only\u001b[0m\u001b[0;34m=\u001b[0m\u001b[0mnumeric_only\u001b[0m\u001b[0;34m)\u001b[0m\u001b[0;34m,\u001b[0m\u001b[0;34m\u001b[0m\u001b[0;34m\u001b[0m\u001b[0m\n",
            "\u001b[0;32m/usr/local/lib/python3.12/dist-packages/pandas/core/groupby/groupby.py\u001b[0m in \u001b[0;36m_cython_agg_general\u001b[0;34m(self, how, alt, numeric_only, min_count, **kwargs)\u001b[0m\n\u001b[1;32m   1996\u001b[0m             \u001b[0;32mreturn\u001b[0m \u001b[0mresult\u001b[0m\u001b[0;34m\u001b[0m\u001b[0;34m\u001b[0m\u001b[0m\n\u001b[1;32m   1997\u001b[0m \u001b[0;34m\u001b[0m\u001b[0m\n\u001b[0;32m-> 1998\u001b[0;31m         \u001b[0mnew_mgr\u001b[0m \u001b[0;34m=\u001b[0m \u001b[0mdata\u001b[0m\u001b[0;34m.\u001b[0m\u001b[0mgrouped_reduce\u001b[0m\u001b[0;34m(\u001b[0m\u001b[0marray_func\u001b[0m\u001b[0;34m)\u001b[0m\u001b[0;34m\u001b[0m\u001b[0;34m\u001b[0m\u001b[0m\n\u001b[0m\u001b[1;32m   1999\u001b[0m         \u001b[0mres\u001b[0m \u001b[0;34m=\u001b[0m \u001b[0mself\u001b[0m\u001b[0;34m.\u001b[0m\u001b[0m_wrap_agged_manager\u001b[0m\u001b[0;34m(\u001b[0m\u001b[0mnew_mgr\u001b[0m\u001b[0;34m)\u001b[0m\u001b[0;34m\u001b[0m\u001b[0;34m\u001b[0m\u001b[0m\n\u001b[1;32m   2000\u001b[0m         \u001b[0;32mif\u001b[0m \u001b[0mhow\u001b[0m \u001b[0;32min\u001b[0m \u001b[0;34m[\u001b[0m\u001b[0;34m\"idxmin\"\u001b[0m\u001b[0;34m,\u001b[0m \u001b[0;34m\"idxmax\"\u001b[0m\u001b[0;34m]\u001b[0m\u001b[0;34m:\u001b[0m\u001b[0;34m\u001b[0m\u001b[0;34m\u001b[0m\u001b[0m\n",
            "\u001b[0;32m/usr/local/lib/python3.12/dist-packages/pandas/core/internals/base.py\u001b[0m in \u001b[0;36mgrouped_reduce\u001b[0;34m(self, func)\u001b[0m\n\u001b[1;32m    365\u001b[0m     \u001b[0;32mdef\u001b[0m \u001b[0mgrouped_reduce\u001b[0m\u001b[0;34m(\u001b[0m\u001b[0mself\u001b[0m\u001b[0;34m,\u001b[0m \u001b[0mfunc\u001b[0m\u001b[0;34m)\u001b[0m\u001b[0;34m:\u001b[0m\u001b[0;34m\u001b[0m\u001b[0;34m\u001b[0m\u001b[0m\n\u001b[1;32m    366\u001b[0m         \u001b[0marr\u001b[0m \u001b[0;34m=\u001b[0m \u001b[0mself\u001b[0m\u001b[0;34m.\u001b[0m\u001b[0marray\u001b[0m\u001b[0;34m\u001b[0m\u001b[0;34m\u001b[0m\u001b[0m\n\u001b[0;32m--> 367\u001b[0;31m         \u001b[0mres\u001b[0m \u001b[0;34m=\u001b[0m \u001b[0mfunc\u001b[0m\u001b[0;34m(\u001b[0m\u001b[0marr\u001b[0m\u001b[0;34m)\u001b[0m\u001b[0;34m\u001b[0m\u001b[0;34m\u001b[0m\u001b[0m\n\u001b[0m\u001b[1;32m    368\u001b[0m         \u001b[0mindex\u001b[0m \u001b[0;34m=\u001b[0m \u001b[0mdefault_index\u001b[0m\u001b[0;34m(\u001b[0m\u001b[0mlen\u001b[0m\u001b[0;34m(\u001b[0m\u001b[0mres\u001b[0m\u001b[0;34m)\u001b[0m\u001b[0;34m)\u001b[0m\u001b[0;34m\u001b[0m\u001b[0;34m\u001b[0m\u001b[0m\n\u001b[1;32m    369\u001b[0m \u001b[0;34m\u001b[0m\u001b[0m\n",
            "\u001b[0;32m/usr/local/lib/python3.12/dist-packages/pandas/core/groupby/groupby.py\u001b[0m in \u001b[0;36marray_func\u001b[0;34m(values)\u001b[0m\n\u001b[1;32m   1993\u001b[0m \u001b[0;34m\u001b[0m\u001b[0m\n\u001b[1;32m   1994\u001b[0m             \u001b[0;32massert\u001b[0m \u001b[0malt\u001b[0m \u001b[0;32mis\u001b[0m \u001b[0;32mnot\u001b[0m \u001b[0;32mNone\u001b[0m\u001b[0;34m\u001b[0m\u001b[0;34m\u001b[0m\u001b[0m\n\u001b[0;32m-> 1995\u001b[0;31m             \u001b[0mresult\u001b[0m \u001b[0;34m=\u001b[0m \u001b[0mself\u001b[0m\u001b[0;34m.\u001b[0m\u001b[0m_agg_py_fallback\u001b[0m\u001b[0;34m(\u001b[0m\u001b[0mhow\u001b[0m\u001b[0;34m,\u001b[0m \u001b[0mvalues\u001b[0m\u001b[0;34m,\u001b[0m \u001b[0mndim\u001b[0m\u001b[0;34m=\u001b[0m\u001b[0mdata\u001b[0m\u001b[0;34m.\u001b[0m\u001b[0mndim\u001b[0m\u001b[0;34m,\u001b[0m \u001b[0malt\u001b[0m\u001b[0;34m=\u001b[0m\u001b[0malt\u001b[0m\u001b[0;34m)\u001b[0m\u001b[0;34m\u001b[0m\u001b[0;34m\u001b[0m\u001b[0m\n\u001b[0m\u001b[1;32m   1996\u001b[0m             \u001b[0;32mreturn\u001b[0m \u001b[0mresult\u001b[0m\u001b[0;34m\u001b[0m\u001b[0;34m\u001b[0m\u001b[0m\n\u001b[1;32m   1997\u001b[0m \u001b[0;34m\u001b[0m\u001b[0m\n",
            "\u001b[0;32m/usr/local/lib/python3.12/dist-packages/pandas/core/groupby/groupby.py\u001b[0m in \u001b[0;36m_agg_py_fallback\u001b[0;34m(self, how, values, ndim, alt)\u001b[0m\n\u001b[1;32m   1944\u001b[0m             \u001b[0mmsg\u001b[0m \u001b[0;34m=\u001b[0m \u001b[0;34mf\"agg function failed [how->{how},dtype->{ser.dtype}]\"\u001b[0m\u001b[0;34m\u001b[0m\u001b[0;34m\u001b[0m\u001b[0m\n\u001b[1;32m   1945\u001b[0m             \u001b[0;31m# preserve the kind of exception that raised\u001b[0m\u001b[0;34m\u001b[0m\u001b[0;34m\u001b[0m\u001b[0m\n\u001b[0;32m-> 1946\u001b[0;31m             \u001b[0;32mraise\u001b[0m \u001b[0mtype\u001b[0m\u001b[0;34m(\u001b[0m\u001b[0merr\u001b[0m\u001b[0;34m)\u001b[0m\u001b[0;34m(\u001b[0m\u001b[0mmsg\u001b[0m\u001b[0;34m)\u001b[0m \u001b[0;32mfrom\u001b[0m \u001b[0merr\u001b[0m\u001b[0;34m\u001b[0m\u001b[0;34m\u001b[0m\u001b[0m\n\u001b[0m\u001b[1;32m   1947\u001b[0m \u001b[0;34m\u001b[0m\u001b[0m\n\u001b[1;32m   1948\u001b[0m         \u001b[0;32mif\u001b[0m \u001b[0mser\u001b[0m\u001b[0;34m.\u001b[0m\u001b[0mdtype\u001b[0m \u001b[0;34m==\u001b[0m \u001b[0mobject\u001b[0m\u001b[0;34m:\u001b[0m\u001b[0;34m\u001b[0m\u001b[0;34m\u001b[0m\u001b[0m\n",
            "\u001b[0;31mTypeError\u001b[0m: agg function failed [how->mean,dtype->object]"
          ]
        }
      ]
    },
    {
      "cell_type": "code",
      "source": [
        "df['Total Performance Score'].unique()"
      ],
      "metadata": {
        "colab": {
          "base_uri": "https://localhost:8080/"
        },
        "id": "Aw2bmyE2yGJE",
        "outputId": "9a827e9d-f5da-4872-9d75-d870eaa0942d"
      },
      "execution_count": null,
      "outputs": [
        {
          "output_type": "execute_result",
          "data": {
            "text/plain": [
              "array(['70', '64', '49', '54', '71', '60', '61', '59', '68', '75', '65',\n",
              "       '77', '62', '67', '76', '57', '55', '52', '63', '88', '56', '53',\n",
              "       '79', '48', '74', '73', '46', '72', '47', '69', '85', '39', '66',\n",
              "       '81', '42', '51', '50', '82', '35', '58', '43', '38', '94', '25',\n",
              "       '37', '32', '78', 'No Score', '97', '45', '84', '93', '95', '90',\n",
              "       '91', '40', '83', '100', '87', '10', '80', '86', '89', '44', '30',\n",
              "       '24', '36', '19', '33', '27', '28', '12', '92', '11', '7', '22',\n",
              "       '96', '41', '34', '29', '99', '31', '26', '14', '23', '98', '20',\n",
              "       '21', '9', '17', '8', '18', '5', '13', '15'], dtype=object)"
            ]
          },
          "metadata": {},
          "execution_count": 24
        }
      ]
    },
    {
      "cell_type": "code",
      "source": [
        "df['Total Performance Score'].dtype"
      ],
      "metadata": {
        "colab": {
          "base_uri": "https://localhost:8080/"
        },
        "id": "9-Lk6iJUrksx",
        "outputId": "881fc522-c0b9-4831-bb28-8b06f779fad2"
      },
      "execution_count": null,
      "outputs": [
        {
          "output_type": "execute_result",
          "data": {
            "text/plain": [
              "dtype('O')"
            ]
          },
          "metadata": {},
          "execution_count": 12
        }
      ]
    },
    {
      "cell_type": "code",
      "source": [
        "df_filt = df[df['Total Performance Score'] != 'No Score']"
      ],
      "metadata": {
        "id": "QPt4a5betIwY"
      },
      "execution_count": null,
      "outputs": []
    },
    {
      "cell_type": "code",
      "source": [
        "df_filt['Total Performance Score'] = df_filt['Total Performance Score'].astype(int)"
      ],
      "metadata": {
        "colab": {
          "base_uri": "https://localhost:8080/"
        },
        "id": "Oo1_9cBLt-5-",
        "outputId": "64293f06-2373-4061-83c1-21f074a542f0"
      },
      "execution_count": null,
      "outputs": [
        {
          "output_type": "stream",
          "name": "stderr",
          "text": [
            "/tmp/ipython-input-564669744.py:1: SettingWithCopyWarning: \n",
            "A value is trying to be set on a copy of a slice from a DataFrame.\n",
            "Try using .loc[row_indexer,col_indexer] = value instead\n",
            "\n",
            "See the caveats in the documentation: https://pandas.pydata.org/pandas-docs/stable/user_guide/indexing.html#returning-a-view-versus-a-copy\n",
            "  df_filt['Total Performance Score'] = df_filt['Total Performance Score'].astype(int)\n"
          ]
        }
      ]
    },
    {
      "cell_type": "code",
      "source": [
        "df_filt = df_filt.copy()\n",
        "df_filt['Total Performance Score'] = df_filt['Total Performance Score'].astype(int)"
      ],
      "metadata": {
        "id": "Lh68aW1vvcua"
      },
      "execution_count": null,
      "outputs": []
    },
    {
      "cell_type": "code",
      "source": [
        "df_filt['Total Performance Score'].dtype"
      ],
      "metadata": {
        "colab": {
          "base_uri": "https://localhost:8080/"
        },
        "id": "gOF1CEt1ufFT",
        "outputId": "7ba02421-09f3-4e8c-b6d8-c0d42ea59efd"
      },
      "execution_count": null,
      "outputs": [
        {
          "output_type": "execute_result",
          "data": {
            "text/plain": [
              "dtype('int64')"
            ]
          },
          "metadata": {},
          "execution_count": 22
        }
      ]
    },
    {
      "cell_type": "code",
      "source": [
        "df_filt.groupby('State')['Total Performance Score'].mean().sort_values(ascending=False).head(10)"
      ],
      "metadata": {
        "colab": {
          "base_uri": "https://localhost:8080/",
          "height": 424
        },
        "id": "p2IBbHgtul6S",
        "outputId": "519e947f-3a80-46e2-ce01-760adcd2b6dd"
      },
      "execution_count": null,
      "outputs": [
        {
          "output_type": "execute_result",
          "data": {
            "text/plain": [
              "State\n",
              "ID    73.178571\n",
              "WY    71.777778\n",
              "HI    70.500000\n",
              "UT    70.421053\n",
              "CO    70.173333\n",
              "WA    70.146067\n",
              "ME    70.058824\n",
              "OR    70.046154\n",
              "KS    69.480769\n",
              "AZ    68.905983\n",
              "Name: Total Performance Score, dtype: float64"
            ],
            "text/html": [
              "<div>\n",
              "<style scoped>\n",
              "    .dataframe tbody tr th:only-of-type {\n",
              "        vertical-align: middle;\n",
              "    }\n",
              "\n",
              "    .dataframe tbody tr th {\n",
              "        vertical-align: top;\n",
              "    }\n",
              "\n",
              "    .dataframe thead th {\n",
              "        text-align: right;\n",
              "    }\n",
              "</style>\n",
              "<table border=\"1\" class=\"dataframe\">\n",
              "  <thead>\n",
              "    <tr style=\"text-align: right;\">\n",
              "      <th></th>\n",
              "      <th>Total Performance Score</th>\n",
              "    </tr>\n",
              "    <tr>\n",
              "      <th>State</th>\n",
              "      <th></th>\n",
              "    </tr>\n",
              "  </thead>\n",
              "  <tbody>\n",
              "    <tr>\n",
              "      <th>ID</th>\n",
              "      <td>73.178571</td>\n",
              "    </tr>\n",
              "    <tr>\n",
              "      <th>WY</th>\n",
              "      <td>71.777778</td>\n",
              "    </tr>\n",
              "    <tr>\n",
              "      <th>HI</th>\n",
              "      <td>70.500000</td>\n",
              "    </tr>\n",
              "    <tr>\n",
              "      <th>UT</th>\n",
              "      <td>70.421053</td>\n",
              "    </tr>\n",
              "    <tr>\n",
              "      <th>CO</th>\n",
              "      <td>70.173333</td>\n",
              "    </tr>\n",
              "    <tr>\n",
              "      <th>WA</th>\n",
              "      <td>70.146067</td>\n",
              "    </tr>\n",
              "    <tr>\n",
              "      <th>ME</th>\n",
              "      <td>70.058824</td>\n",
              "    </tr>\n",
              "    <tr>\n",
              "      <th>OR</th>\n",
              "      <td>70.046154</td>\n",
              "    </tr>\n",
              "    <tr>\n",
              "      <th>KS</th>\n",
              "      <td>69.480769</td>\n",
              "    </tr>\n",
              "    <tr>\n",
              "      <th>AZ</th>\n",
              "      <td>68.905983</td>\n",
              "    </tr>\n",
              "  </tbody>\n",
              "</table>\n",
              "</div><br><label><b>dtype:</b> float64</label>"
            ]
          },
          "metadata": {},
          "execution_count": 23
        }
      ]
    }
  ]
}